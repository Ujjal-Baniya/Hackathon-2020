{
 "cells": [
  {
   "cell_type": "code",
   "execution_count": 25,
   "metadata": {},
   "outputs": [
    {
     "ename": "TypeError",
     "evalue": "'NoneType' object is not subscriptable",
     "output_type": "error",
     "traceback": [
      "\u001b[1;31m---------------------------------------------------------------------------\u001b[0m",
      "\u001b[1;31mTypeError\u001b[0m                                 Traceback (most recent call last)",
      "\u001b[1;32m<ipython-input-25-b99bc01634d7>\u001b[0m in \u001b[0;36m<module>\u001b[1;34m\u001b[0m\n\u001b[0;32m      3\u001b[0m \u001b[0mlst\u001b[0m\u001b[1;33m=\u001b[0m\u001b[0mbs\u001b[0m\u001b[1;33m.\u001b[0m\u001b[0mfind\u001b[0m\u001b[1;33m(\u001b[0m\u001b[1;34m'h1'\u001b[0m\u001b[1;33m,\u001b[0m\u001b[1;33m{\u001b[0m\u001b[1;34m'itemprop'\u001b[0m\u001b[1;33m:\u001b[0m\u001b[1;34m\"headline\"\u001b[0m\u001b[1;33m}\u001b[0m\u001b[1;33m)\u001b[0m\u001b[1;33m\u001b[0m\u001b[1;33m\u001b[0m\u001b[0m\n\u001b[0;32m      4\u001b[0m \u001b[1;32mfor\u001b[0m \u001b[0mx\u001b[0m \u001b[1;32min\u001b[0m \u001b[0mlst\u001b[0m\u001b[1;33m:\u001b[0m\u001b[1;33m\u001b[0m\u001b[1;33m\u001b[0m\u001b[0m\n\u001b[1;32m----> 5\u001b[1;33m     \u001b[0mprint\u001b[0m\u001b[1;33m(\u001b[0m\u001b[0mx\u001b[0m\u001b[1;33m.\u001b[0m\u001b[0mfind\u001b[0m\u001b[1;33m(\u001b[0m\u001b[1;34m'a'\u001b[0m\u001b[1;33m)\u001b[0m\u001b[1;33m[\u001b[0m\u001b[1;34m'href'\u001b[0m\u001b[1;33m]\u001b[0m\u001b[1;33m)\u001b[0m\u001b[1;33m\u001b[0m\u001b[1;33m\u001b[0m\u001b[0m\n\u001b[0m",
      "\u001b[1;31mTypeError\u001b[0m: 'NoneType' object is not subscriptable"
     ]
    }
   ],
   "source": [
    "html=urlopen(f\"https://www.bbc.co.uk/search?q=rape+in+kolkata&sa_f=search-product&filter=news&suggid=\")\n",
    "bs=BeautifulSoup(html,'html.parser')\n",
    "lst=bs.find('h1',{'itemprop':\"headline\"})\n",
    "for x in lst:\n",
    "    print(x.find('a')['href'])"
   ]
  },
  {
   "cell_type": "code",
   "execution_count": 46,
   "metadata": {},
   "outputs": [
    {
     "name": "stdout",
     "output_type": "stream",
     "text": [
      "http://www.bbc.co.uk/news/world-asia-india-35068445\n",
      "http://www.bbc.co.uk/news/world-asia-india-31902013\n",
      "http://www.bbc.co.uk/news/world-asia-india-31865472\n"
     ]
    }
   ],
   "source": [
    "from bs4 import BeautifulSoup\n",
    "from urllib.request import urlopen\n",
    "html=urlopen(f\"https://www.bbc.co.uk/search?q=rape+in+kolkata&sa_f=search-product&filter=news&suggid=\")\n",
    "bs=BeautifulSoup(html,'html.parser')\n",
    "lst=bs.find('ol',{'class':\"search-results results\"}).find_all('li')\n",
    "for x in lst:\n",
    "    print(str(x.find('a')['href']))"
   ]
  },
  {
   "cell_type": "code",
   "execution_count": 49,
   "metadata": {},
   "outputs": [
    {
     "ename": "SyntaxError",
     "evalue": "invalid syntax (<ipython-input-49-9488d47d7ee8>, line 11)",
     "output_type": "error",
     "traceback": [
      "\u001b[1;36m  File \u001b[1;32m\"<ipython-input-49-9488d47d7ee8>\"\u001b[1;36m, line \u001b[1;32m11\u001b[0m\n\u001b[1;33m    except:\u001b[0m\n\u001b[1;37m         ^\u001b[0m\n\u001b[1;31mSyntaxError\u001b[0m\u001b[1;31m:\u001b[0m invalid syntax\n"
     ]
    }
   ],
   "source": [
    "from bs4 import BeautifulSoup\n",
    "from urllib.request import urlopen\n",
    "def GoogleNewsUrl(keyword):\n",
    "    keyword=keyword.replace(' ','%20').lower()\n",
    "    html=urlopen(f\"https://news.google.com/search?q={keyword}\") \n",
    "    bs=BeautifulSoup(html,'html.parser')\n",
    "    lst=bs.find('div',{'class':\"NiLAwe y6IFtc R7GTQ keNKEd j7vNaf nID9nc\"}).find('a')['href']\n",
    "    for x in lst:\n",
    "        try:\n",
    "            print(str(x)\n",
    "        except:\n",
    "            pass"
   ]
  },
  {
   "cell_type": "code",
   "execution_count": 44,
   "metadata": {},
   "outputs": [],
   "source": [
    "GoogleNewsUrl(\"crime in indai\")"
   ]
  },
  {
   "cell_type": "code",
   "execution_count": 45,
   "metadata": {},
   "outputs": [
    {
     "ename": "SyntaxError",
     "evalue": "invalid syntax (<ipython-input-45-a559fb8a8177>, line 1)",
     "output_type": "error",
     "traceback": [
      "\u001b[1;36m  File \u001b[1;32m\"<ipython-input-45-a559fb8a8177>\"\u001b[1;36m, line \u001b[1;32m1\u001b[0m\n\u001b[1;33m    class=\"NiLAwe y6IFtc R7GTQ keNKEd j7vNaf nID9nc\"\u001b[0m\n\u001b[1;37m         ^\u001b[0m\n\u001b[1;31mSyntaxError\u001b[0m\u001b[1;31m:\u001b[0m invalid syntax\n"
     ]
    }
   ],
   "source": [
    "class=\"NiLAwe y6IFtc R7GTQ keNKEd j7vNaf nID9nc\""
   ]
  },
  {
   "cell_type": "code",
   "execution_count": 62,
   "metadata": {},
   "outputs": [
    {
     "name": "stdout",
     "output_type": "stream",
     "text": [
      "https://news.google.com./articles/CBMiQGh0dHBzOi8vZ2NuLmNvbS9hcnRpY2xlcy8yMDE5LzEyLzE5L2NoaWNhZ28tY3JpbWUtY2VudGVyc18wLmFzcHjSAQA?hl=en-IN&gl=IN&ceid=IN%3Aen\n"
     ]
    }
   ],
   "source": [
    "from bs4 import BeautifulSoup\n",
    "from urllib.request import urlopen\n",
    "html=urlopen(f\"https://news.google.com/search?q=crime\") \n",
    "bs=BeautifulSoup(html,'html.parser')\n",
    "lst=bs.find('div',{'class':\"NiLAwe y6IFtc R7GTQ keNKEd j7vNaf nID9nc\"}).find('a')['href']\n",
    "url_ini=\"https://news.google.com\"\n",
    "print(url_ini+lst)"
   ]
  },
  {
   "cell_type": "code",
   "execution_count": null,
   "metadata": {},
   "outputs": [],
   "source": []
  }
 ],
 "metadata": {
  "kernelspec": {
   "display_name": "Python 3",
   "language": "python",
   "name": "python3"
  },
  "language_info": {
   "codemirror_mode": {
    "name": "ipython",
    "version": 3
   },
   "file_extension": ".py",
   "mimetype": "text/x-python",
   "name": "python",
   "nbconvert_exporter": "python",
   "pygments_lexer": "ipython3",
   "version": "3.7.4"
  }
 },
 "nbformat": 4,
 "nbformat_minor": 2
}
