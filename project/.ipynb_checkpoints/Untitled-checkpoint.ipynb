{
 "cells": [
  {
   "cell_type": "code",
   "execution_count": 6,
   "metadata": {},
   "outputs": [
    {
     "name": "stdout",
     "output_type": "stream",
     "text": [
      "Your IP detail\n",
      " \n",
      "Region : Andhra Pradesh \n",
      "Country : IN \n",
      "City : Bhīmavaram \n"
     ]
    }
   ],
   "source": [
    "import re\n",
    "import json\n",
    "from urllib.request import urlopen\n",
    "\n",
    "url = 'http://ipinfo.io/json'\n",
    "response = urlopen(url)\n",
    "data = json.load(response)\n",
    "\n",
    "IP=data['ip']\n",
    "org=data['org']\n",
    "city = data['city']\n",
    "country=data['country']\n",
    "region=data['region']\n",
    "\n",
    "print('Your IP detail\\n ')\n",
    "print(f'Region : {region} \\nCountry : {country} \\nCity : {city} ')"
   ]
  },
  {
   "cell_type": "code",
   "execution_count": null,
   "metadata": {},
   "outputs": [],
   "source": []
  }
 ],
 "metadata": {
  "kernelspec": {
   "display_name": "Python 3",
   "language": "python",
   "name": "python3"
  },
  "language_info": {
   "codemirror_mode": {
    "name": "ipython",
    "version": 3
   },
   "file_extension": ".py",
   "mimetype": "text/x-python",
   "name": "python",
   "nbconvert_exporter": "python",
   "pygments_lexer": "ipython3",
   "version": "3.7.4"
  }
 },
 "nbformat": 4,
 "nbformat_minor": 2
}
